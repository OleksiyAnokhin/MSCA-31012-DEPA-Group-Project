{
 "cells": [
  {
   "cell_type": "markdown",
   "metadata": {},
   "source": [
    "# Oleksiy Anokhin\n",
    "\n",
    "### May 23, 2016\n",
    "\n",
    "## Extracting zip codes\n",
    "\n",
    "Link: https://gis.stackexchange.com/questions/352961/convert-lat-lon-to-zip-postal-code-using-python"
   ]
  },
  {
   "cell_type": "code",
   "execution_count": 62,
   "metadata": {},
   "outputs": [],
   "source": [
    "# Install packages\n",
    "import geopy\n",
    "import pandas as pd\n",
    "import numpy as np\n",
    "# from arcgis.geocoding import reverse_geocode\n",
    "# from arcgis.geometry import Geometry\n",
    "# from arcgis.gis import GIS"
   ]
  },
  {
   "cell_type": "markdown",
   "metadata": {},
   "source": [
    "### Problem 1. Extract zip codes for bus stations"
   ]
  },
  {
   "cell_type": "code",
   "execution_count": 66,
   "metadata": {},
   "outputs": [
    {
     "name": "stdout",
     "output_type": "stream",
     "text": [
      "   SYSTEMSTOP  OBJECTID                                       the_geom  \\\n",
      "0       11953       193   POINT (-87.54862703700002 41.72818418100002)   \n",
      "1        2723       194       POINT (-87.737227163 41.749111071000016)   \n",
      "2        1307       195  POINT (-87.74397362600001 41.924143016000016)   \n",
      "3        6696       196   POINT (-87.65929365400001 41.86931424800002)   \n",
      "4          22       197        POINT (-87.72780787099998 41.877006596)   \n",
      "\n",
      "        STREET               CROSS_ST DIR POS ROUTESSTPG OWLROUTES     CITY  \\\n",
      "0  92ND STREET              BALTIMORE  EB  NS         95       NaN  CHICAGO   \n",
      "1  79TH STREET  KILPATRICK (east leg)  EB  NS         79       NaN  CHICAGO   \n",
      "2    FULLERTON             KILPATRICK  EB  NS         74       NaN  CHICAGO   \n",
      "3       TAYLOR                 THROOP  EB  NS        157       NaN  CHICAGO   \n",
      "4      JACKSON                 KARLOV  EB  FS        126       NaN  CHICAGO   \n",
      "\n",
      "   STATUS                PUBLIC_NAM    POINT_X    POINT_Y  \n",
      "0       1   92nd Street & Baltimore -87.548627  41.728184  \n",
      "1       1  79th Street & Kilpatrick -87.737227  41.749111  \n",
      "2       1    Fullerton & Kilpatrick -87.743974  41.924143  \n",
      "3       1           Taylor & Throop -87.659294  41.869314  \n",
      "4       1          Jackson & Karlov -87.727808  41.877007  \n"
     ]
    }
   ],
   "source": [
    "# Read bus stops data \n",
    "bus_stops = pd.read_csv('CTA_BusStops.csv')  \n",
    "print(bus_stops.head())"
   ]
  },
  {
   "cell_type": "code",
   "execution_count": 69,
   "metadata": {},
   "outputs": [
    {
     "name": "stdout",
     "output_type": "stream",
     "text": [
      "   SYSTEMSTOP  OBJECTID                                       the_geom  \\\n",
      "0       11953       193   POINT (-87.54862703700002 41.72818418100002)   \n",
      "1        2723       194       POINT (-87.737227163 41.749111071000016)   \n",
      "2        1307       195  POINT (-87.74397362600001 41.924143016000016)   \n",
      "3        6696       196   POINT (-87.65929365400001 41.86931424800002)   \n",
      "4          22       197        POINT (-87.72780787099998 41.877006596)   \n",
      "\n",
      "        STREET               CROSS_ST DIR POS ROUTESSTPG OWLROUTES     CITY  \\\n",
      "0  92ND STREET              BALTIMORE  EB  NS         95       NaN  CHICAGO   \n",
      "1  79TH STREET  KILPATRICK (east leg)  EB  NS         79       NaN  CHICAGO   \n",
      "2    FULLERTON             KILPATRICK  EB  NS         74       NaN  CHICAGO   \n",
      "3       TAYLOR                 THROOP  EB  NS        157       NaN  CHICAGO   \n",
      "4      JACKSON                 KARLOV  EB  FS        126       NaN  CHICAGO   \n",
      "\n",
      "   STATUS                PUBLIC_NAM  Longitude   Latitude  \n",
      "0       1   92nd Street & Baltimore -87.548627  41.728184  \n",
      "1       1  79th Street & Kilpatrick -87.737227  41.749111  \n",
      "2       1    Fullerton & Kilpatrick -87.743974  41.924143  \n",
      "3       1           Taylor & Throop -87.659294  41.869314  \n",
      "4       1          Jackson & Karlov -87.727808  41.877007  \n"
     ]
    }
   ],
   "source": [
    "# Rename columns Longitude and Latitude\n",
    "bus_stops = bus_stops.rename(columns = {\"POINT_X\": \"Longitude\", \"POINT_Y\": \"Latitude\"})\n",
    "print(bus_stops.head())"
   ]
  },
  {
   "cell_type": "code",
   "execution_count": 71,
   "metadata": {},
   "outputs": [
    {
     "data": {
      "text/plain": [
       "True"
      ]
     },
     "execution_count": 71,
     "metadata": {},
     "output_type": "execute_result"
    }
   ],
   "source": [
    "# Check NAs\n",
    "bus_stops.isnull().values.any()"
   ]
  },
  {
   "cell_type": "code",
   "execution_count": 72,
   "metadata": {},
   "outputs": [
    {
     "name": "stdout",
     "output_type": "stream",
     "text": [
      "<class 'pandas.core.frame.DataFrame'>\n",
      "RangeIndex: 11074 entries, 0 to 11073\n",
      "Data columns (total 14 columns):\n",
      "SYSTEMSTOP    11074 non-null int64\n",
      "OBJECTID      11074 non-null int64\n",
      "the_geom      11074 non-null object\n",
      "STREET        11074 non-null object\n",
      "CROSS_ST      11074 non-null object\n",
      "DIR           11074 non-null object\n",
      "POS           11074 non-null object\n",
      "ROUTESSTPG    11068 non-null object\n",
      "OWLROUTES     2190 non-null object\n",
      "CITY          11074 non-null object\n",
      "STATUS        11074 non-null int64\n",
      "PUBLIC_NAM    11074 non-null object\n",
      "Longitude     11074 non-null float64\n",
      "Latitude      11074 non-null float64\n",
      "dtypes: float64(2), int64(3), object(9)\n",
      "memory usage: 1.2+ MB\n",
      "None\n"
     ]
    }
   ],
   "source": [
    "# Check number of rows\n",
    "print(bus_stops.info())\n",
    "# We have 11074 rows"
   ]
  },
  {
   "cell_type": "code",
   "execution_count": 74,
   "metadata": {},
   "outputs": [
    {
     "name": "stdout",
     "output_type": "stream",
     "text": [
      "<class 'pandas.core.frame.DataFrame'>\n",
      "Int64Index: 11074 entries, 0 to 11073\n",
      "Data columns (total 14 columns):\n",
      "SYSTEMSTOP    11074 non-null int64\n",
      "OBJECTID      11074 non-null int64\n",
      "the_geom      11074 non-null object\n",
      "STREET        11074 non-null object\n",
      "CROSS_ST      11074 non-null object\n",
      "DIR           11074 non-null object\n",
      "POS           11074 non-null object\n",
      "ROUTESSTPG    11068 non-null object\n",
      "OWLROUTES     2190 non-null object\n",
      "CITY          11074 non-null object\n",
      "STATUS        11074 non-null int64\n",
      "PUBLIC_NAM    11074 non-null object\n",
      "Longitude     11074 non-null float64\n",
      "Latitude      11074 non-null float64\n",
      "dtypes: float64(2), int64(3), object(9)\n",
      "memory usage: 1.3+ MB\n",
      "None\n"
     ]
    }
   ],
   "source": [
    "# Drop all NAs in columns Longitude and Latitude only, because these are columns of our interest\n",
    "bus_stops = bus_stops.dropna(subset = [\"Longitude\", \"Latitude\"], how = 'all')\n",
    "# Check number of rows\n",
    "print(bus_stops.info())\n",
    "# We have 11074 rows"
   ]
  },
  {
   "cell_type": "code",
   "execution_count": 75,
   "metadata": {},
   "outputs": [
    {
     "name": "stdout",
     "output_type": "stream",
     "text": [
      "   Longitude   Latitude\n",
      "0 -87.548627  41.728184\n",
      "1 -87.737227  41.749111\n",
      "2 -87.743974  41.924143\n",
      "3 -87.659294  41.869314\n",
      "4 -87.727808  41.877007\n"
     ]
    }
   ],
   "source": [
    "# Keep in df only two columns\n",
    "bus_stops_geo = bus_stops.iloc[:, 12:14]\n",
    "print(bus_stops_geo.head())"
   ]
  },
  {
   "cell_type": "code",
   "execution_count": 76,
   "metadata": {},
   "outputs": [
    {
     "data": {
      "text/plain": [
       "False"
      ]
     },
     "execution_count": 76,
     "metadata": {},
     "output_type": "execute_result"
    }
   ],
   "source": [
    "# Check NAs again\n",
    "bus_stops_geo.isnull().values.any()\n",
    "# As we can see, there no NA rows in two columns of our interest. "
   ]
  },
  {
   "cell_type": "code",
   "execution_count": 88,
   "metadata": {},
   "outputs": [],
   "source": [
    "# Create a function for zip codes extraction\n",
    "def get_zipcode(df, geolocator, lat_field, lon_field):\n",
    "    location = geolocator.reverse((df[lat_field], df[lon_field]))\n",
    "    return location.raw['address']['postcode']\n",
    "\n",
    "geolocator = geopy.Nominatim(user_agent = 'my-application')"
   ]
  },
  {
   "cell_type": "code",
   "execution_count": 89,
   "metadata": {},
   "outputs": [],
   "source": [
    "# Test a sample with 20 rows\n",
    "test = bus_stops_geo.head(20)"
   ]
  },
  {
   "cell_type": "code",
   "execution_count": 90,
   "metadata": {},
   "outputs": [],
   "source": [
    "# Extract zip codes\n",
    "zipcodes = test.apply(get_zipcode, axis = 1, geolocator = geolocator, \n",
    "                               lat_field = 'Latitude', lon_field = 'Longitude')"
   ]
  },
  {
   "cell_type": "code",
   "execution_count": 91,
   "metadata": {},
   "outputs": [
    {
     "name": "stdout",
     "output_type": "stream",
     "text": [
      "0     60617\n",
      "1     60652\n",
      "2     60639\n",
      "3     60607\n",
      "4     60644\n",
      "5     60659\n",
      "6     60620\n",
      "7     60626\n",
      "8     60610\n",
      "9     60660\n",
      "10    60625\n",
      "11    60645\n",
      "12    60628\n",
      "13    60620\n",
      "14    60629\n",
      "15    60628\n",
      "16    60644\n",
      "17    60638\n",
      "18    60657\n",
      "19    60631\n",
      "dtype: object\n"
     ]
    }
   ],
   "source": [
    "print(zipcodes)"
   ]
  },
  {
   "cell_type": "markdown",
   "metadata": {},
   "source": [
    "### Asked StackOverflow Question \n",
    "https://stackoverflow.com/questions/61990378/returning-zipcodes-for-longitude-latitude-with-geopy-avoiding-geocodertimedout"
   ]
  },
  {
   "cell_type": "markdown",
   "metadata": {},
   "source": [
    "### Solution in R\n",
    "\n",
    "**Oleksiy Anokhin**\n",
    "\n",
    "**May 24, 2020**\n",
    "\n",
    "**Attempt to extract zip codes in R**\n",
    "\n",
    "Link: https://stackoverflow.com/questions/42337619/how-to-batch-reverse-geocode-in-r\n",
    "\n",
    "library(sp)\n",
    "\n",
    "library(rgdal)\n",
    "\n",
    "library(tidyverse)\n",
    "\n",
    "**Import zips shapefile and transform CRS**\n",
    "\n",
    "zips <- readOGR(\"cb_2015_us_zcta510_500k.shp\")\n",
    "\n",
    "zips <- spTransform(zips, CRS(\"+proj=longlat +datum=WGS84 +ellps=WGS84 +towgs84=0,0,0\"))\n",
    "\n",
    "**Read bus stops data**\n",
    "\n",
    "bus_stops <- read_csv(\"CTA_BusStops.csv\")\n",
    "\n",
    "**Rename two columns for long and lat**\n",
    "\n",
    "bus_stops <- rename(bus_stops, longitude = POINT_X, latitude = POINT_Y)\n",
    "\n",
    "**Extract long and lat only**\n",
    "test_bus_stops <- bus_stops[ , c(13, 14)]\n",
    "\n",
    "**Transform coordinates into a SpatialPointsDataFrame**\n",
    "\n",
    "bus_stops_spatial <- SpatialPointsDataFrame(coords = test_bus_stops, data = bus_stops, proj4string = CRS(\"+proj=longlat +datum=WGS84 +ellps=WGS84 +towgs84=0,0,0\"))\n",
    "\n",
    "class(bus_stops_spatial) # [1] \"SpatialPointsDataFrame\"\n",
    "\n",
    "**Subset only the zipcodes in which points are found**\n",
    "\n",
    "zips_subset <- zips[bus_stops_spatial, ]\n",
    "\n",
    "**NOTE: the column in zips_subset containing zipcodes is ZCTA5CE10**\n",
    "\n",
    "**Use over() to overlay points in polygons and then add that to the original dataframe**\n",
    "\n",
    "**Create a separate column**\n",
    "\n",
    "bus_stops_zip <- over(bus_stops_spatial, zips_subset[, \"zip_code\"]) \n",
    "\n",
    "bus_stops_zip # It works! I double check long and lat via https://www.melissa.com/v2/lookups/latlngzip4/\n",
    "\n",
    "**Merge bus stops with bus stop zips**\n",
    "\n",
    "bus_stops <- cbind(bus_stops, bus_stops_zip)\n",
    "\n",
    "**Rename zip_code column**\n",
    "\n",
    "bus_stops <- rename(bus_stops, zip_code = ZCTA5CE10)\n",
    "\n",
    "head(bus_stops)\n",
    "\n",
    "head(bus_stops[, 13:15])\n",
    "\n",
    "**Extract as csv**\n",
    "\n",
    "write.csv(bus_stops,'bus_stops_zips.csv')"
   ]
  },
  {
   "cell_type": "code",
   "execution_count": 131,
   "metadata": {},
   "outputs": [
    {
     "name": "stdout",
     "output_type": "stream",
     "text": [
      "   Unnamed: 0  SYSTEMSTOP  OBJECTID  \\\n",
      "0           1       11953       193   \n",
      "1           2        2723       194   \n",
      "2           3        1307       195   \n",
      "3           4        6696       196   \n",
      "4           5          22       197   \n",
      "\n",
      "                                        the_geom       STREET  \\\n",
      "0   POINT (-87.54862703700002 41.72818418100002)  92ND STREET   \n",
      "1       POINT (-87.737227163 41.749111071000016)  79TH STREET   \n",
      "2  POINT (-87.74397362600001 41.924143016000016)    FULLERTON   \n",
      "3   POINT (-87.65929365400001 41.86931424800002)       TAYLOR   \n",
      "4        POINT (-87.72780787099998 41.877006596)      JACKSON   \n",
      "\n",
      "                CROSS_ST DIR POS ROUTESSTPG OWLROUTES     CITY  STATUS  \\\n",
      "0              BALTIMORE  EB  NS         95       NaN  CHICAGO       1   \n",
      "1  KILPATRICK (east leg)  EB  NS         79       NaN  CHICAGO       1   \n",
      "2             KILPATRICK  EB  NS         74       NaN  CHICAGO       1   \n",
      "3                 THROOP  EB  NS        157       NaN  CHICAGO       1   \n",
      "4                 KARLOV  EB  FS        126       NaN  CHICAGO       1   \n",
      "\n",
      "                 PUBLIC_NAM  longitude   latitude  zip_code  \n",
      "0   92nd Street & Baltimore -87.548627  41.728184     60617  \n",
      "1  79th Street & Kilpatrick -87.737227  41.749111     60652  \n",
      "2    Fullerton & Kilpatrick -87.743974  41.924143     60639  \n",
      "3           Taylor & Throop -87.659294  41.869314     60607  \n",
      "4          Jackson & Karlov -87.727808  41.877007     60624  \n"
     ]
    }
   ],
   "source": [
    "# Read bus stops data with zip codes\n",
    "bus_stops_cleaned = pd.read_csv('bus_stops_zips.csv')  \n",
    "print(bus_stops_cleaned.head())"
   ]
  },
  {
   "cell_type": "code",
   "execution_count": 132,
   "metadata": {},
   "outputs": [
    {
     "name": "stdout",
     "output_type": "stream",
     "text": [
      "   SYSTEMSTOP  OBJECTID ROUTESSTPG                PUBLIC_NAM  longitude  \\\n",
      "0       11953       193         95   92nd Street & Baltimore -87.548627   \n",
      "1        2723       194         79  79th Street & Kilpatrick -87.737227   \n",
      "2        1307       195         74    Fullerton & Kilpatrick -87.743974   \n",
      "3        6696       196        157           Taylor & Throop -87.659294   \n",
      "4          22       197        126          Jackson & Karlov -87.727808   \n",
      "\n",
      "    latitude  zip_code  \n",
      "0  41.728184     60617  \n",
      "1  41.749111     60652  \n",
      "2  41.924143     60639  \n",
      "3  41.869314     60607  \n",
      "4  41.877007     60624  \n"
     ]
    }
   ],
   "source": [
    "# Drop unnecessary columns for us\n",
    "bus_stops_cleaned = bus_stops_cleaned[['SYSTEMSTOP','OBJECTID', 'ROUTESSTPG', 'PUBLIC_NAM', \n",
    "                                       'longitude', 'latitude', 'zip_code' ]]\n",
    "print(bus_stops_cleaned.head())"
   ]
  },
  {
   "cell_type": "code",
   "execution_count": 184,
   "metadata": {},
   "outputs": [
    {
     "name": "stdout",
     "output_type": "stream",
     "text": [
      "   stop_id  object_id route                   address  longitude   latitude  \\\n",
      "0    11953        193    95   92nd Street & Baltimore -87.548627  41.728184   \n",
      "1     2723        194    79  79th Street & Kilpatrick -87.737227  41.749111   \n",
      "2     1307        195    74    Fullerton & Kilpatrick -87.743974  41.924143   \n",
      "3     6696        196   157           Taylor & Throop -87.659294  41.869314   \n",
      "4       22        197   126          Jackson & Karlov -87.727808  41.877007   \n",
      "\n",
      "   zip_code  \n",
      "0     60617  \n",
      "1     60652  \n",
      "2     60639  \n",
      "3     60607  \n",
      "4     60624  \n"
     ]
    }
   ],
   "source": [
    "# Make all column names lowercase\n",
    "bus_stops_cleaned.columns = map(str.lower, bus_stops_cleaned.columns)\n",
    "print(bus_stops_cleaned.head())"
   ]
  },
  {
   "cell_type": "code",
   "execution_count": 185,
   "metadata": {},
   "outputs": [
    {
     "name": "stdout",
     "output_type": "stream",
     "text": [
      "   stop_id  object_id route                   address  longitude   latitude  \\\n",
      "0    11953        193    95   92nd Street & Baltimore -87.548627  41.728184   \n",
      "1     2723        194    79  79th Street & Kilpatrick -87.737227  41.749111   \n",
      "2     1307        195    74    Fullerton & Kilpatrick -87.743974  41.924143   \n",
      "3     6696        196   157           Taylor & Throop -87.659294  41.869314   \n",
      "4       22        197   126          Jackson & Karlov -87.727808  41.877007   \n",
      "\n",
      "   zip_code  \n",
      "0     60617  \n",
      "1     60652  \n",
      "2     60639  \n",
      "3     60607  \n",
      "4     60624  \n"
     ]
    }
   ],
   "source": [
    "# Rename several columns\n",
    "bus_stops_cleaned = bus_stops_cleaned.rename(columns = {\"systemstop\": \"stop_id\", \"objectid\": \"object_id\", \n",
    "                                                        'routesstpg': 'route', 'public_nam': 'address'})\n",
    "print(bus_stops_cleaned.head())"
   ]
  },
  {
   "cell_type": "markdown",
   "metadata": {},
   "source": [
    "**Discuss with the team regarding some columns**"
   ]
  },
  {
   "cell_type": "code",
   "execution_count": 205,
   "metadata": {},
   "outputs": [],
   "source": [
    "bus_stops_cleaned.to_csv(\"bus_stops_data.csv\", index = False)"
   ]
  },
  {
   "cell_type": "markdown",
   "metadata": {},
   "source": [
    "### Problem 2. Extract zip codes for L stations"
   ]
  },
  {
   "cell_type": "code",
   "execution_count": 190,
   "metadata": {},
   "outputs": [
    {
     "name": "stdout",
     "output_type": "stream",
     "text": [
      "   STOP_ID DIRECTION_ID                        STOP_NAME  \\\n",
      "0    30162            W         18th (54th/Cermak-bound)   \n",
      "1    30161            E                18th (Loop-bound)   \n",
      "2    30022            N         35th/Archer (Loop-bound)   \n",
      "3    30023            S       35th/Archer (Midway-bound)   \n",
      "4    30214            S  35-Bronzeville-IIT (63rd-bound)   \n",
      "\n",
      "           STATION_NAME           STATION_DESCRIPTIVE_NAME  MAP_ID   ADA  \\\n",
      "0                  18th                   18th (Pink Line)   40830  True   \n",
      "1                  18th                   18th (Pink Line)   40830  True   \n",
      "2           35th/Archer          35th/Archer (Orange Line)   40120  True   \n",
      "3           35th/Archer          35th/Archer (Orange Line)   40120  True   \n",
      "4  35th-Bronzeville-IIT  35th-Bronzeville-IIT (Green Line)   41120  True   \n",
      "\n",
      "     RED   BLUE      G    BRN      P   Pexp      Y    Pnk      O  \\\n",
      "0  False  False  False  False  False  False  False   True  False   \n",
      "1  False  False  False  False  False  False  False   True  False   \n",
      "2  False  False  False  False  False  False  False  False   True   \n",
      "3  False  False  False  False  False  False  False  False   True   \n",
      "4  False  False   True  False  False  False  False  False  False   \n",
      "\n",
      "                  Location  \n",
      "0  (41.857908, -87.669147)  \n",
      "1  (41.857908, -87.669147)  \n",
      "2  (41.829353, -87.680622)  \n",
      "3  (41.829353, -87.680622)  \n",
      "4  (41.831677, -87.625826)  \n"
     ]
    }
   ],
   "source": [
    "# Read L stations data \n",
    "l_stations = pd.read_csv('CTA_-_System_Information_-_List_of__L__Stops.csv')  \n",
    "print(l_stations.head())"
   ]
  },
  {
   "cell_type": "code",
   "execution_count": 191,
   "metadata": {},
   "outputs": [],
   "source": [
    "# Split location into long/lat\n",
    "long_lat = l_stations['Location'].str.strip('()').str.split(', ', expand = True).rename(columns = {0:'latitude', 1:'longitude'}) "
   ]
  },
  {
   "cell_type": "code",
   "execution_count": 192,
   "metadata": {},
   "outputs": [
    {
     "name": "stdout",
     "output_type": "stream",
     "text": [
      "      latitude   longitude\n",
      "0    41.857908  -87.669147\n",
      "1    41.857908  -87.669147\n",
      "2    41.829353  -87.680622\n",
      "3    41.829353  -87.680622\n",
      "4    41.831677  -87.625826\n",
      "..         ...         ...\n",
      "295  41.964273  -87.657588\n",
      "296   41.88322  -87.626189\n",
      "297  41.964273  -87.657588\n",
      "298  41.885269  -87.666969\n",
      "299  41.885269  -87.666969\n",
      "\n",
      "[300 rows x 2 columns]\n"
     ]
    }
   ],
   "source": [
    "print(long_lat)"
   ]
  },
  {
   "cell_type": "code",
   "execution_count": 193,
   "metadata": {},
   "outputs": [
    {
     "name": "stdout",
     "output_type": "stream",
     "text": [
      "     STOP_ID DIRECTION_ID                           STOP_NAME  \\\n",
      "0      30162            W            18th (54th/Cermak-bound)   \n",
      "1      30161            E                   18th (Loop-bound)   \n",
      "2      30022            N            35th/Archer (Loop-bound)   \n",
      "3      30023            S          35th/Archer (Midway-bound)   \n",
      "4      30214            S     35-Bronzeville-IIT (63rd-bound)   \n",
      "..       ...          ...                                 ...   \n",
      "295    30106            S                 Wilson (95th-bound)   \n",
      "296    30383            N      Washington/Wabash (Outer Loop)   \n",
      "297    30385            S                 Wilson (Loop-bound)   \n",
      "298    30033            W  Ashland (Harlem-54th/Cermak-bound)   \n",
      "299    30032            E           Ashland (Loop-63rd-bound)   \n",
      "\n",
      "             STATION_NAME                           STATION_DESCRIPTIVE_NAME  \\\n",
      "0                    18th                                   18th (Pink Line)   \n",
      "1                    18th                                   18th (Pink Line)   \n",
      "2             35th/Archer                          35th/Archer (Orange Line)   \n",
      "3             35th/Archer                          35th/Archer (Orange Line)   \n",
      "4    35th-Bronzeville-IIT                  35th-Bronzeville-IIT (Green Line)   \n",
      "..                    ...                                                ...   \n",
      "295                Wilson                        Wilson (Red & Purple Lines)   \n",
      "296     Washington/Wabash  Washington/Wabash (Brown, Green, Orange, Purpl...   \n",
      "297                Wilson                        Wilson (Red & Purple Lines)   \n",
      "298               Ashland                       Ashland (Green & Pink Lines)   \n",
      "299               Ashland                       Ashland (Green & Pink Lines)   \n",
      "\n",
      "     MAP_ID   ADA    RED   BLUE      G    BRN      P   Pexp      Y    Pnk  \\\n",
      "0     40830  True  False  False  False  False  False  False  False   True   \n",
      "1     40830  True  False  False  False  False  False  False  False   True   \n",
      "2     40120  True  False  False  False  False  False  False  False  False   \n",
      "3     40120  True  False  False  False  False  False  False  False  False   \n",
      "4     41120  True  False  False   True  False  False  False  False  False   \n",
      "..      ...   ...    ...    ...    ...    ...    ...    ...    ...    ...   \n",
      "295   40540  True   True  False  False  False  False  False  False  False   \n",
      "296   41700  True  False  False   True   True  False  False  False  False   \n",
      "297   40540  True  False  False  False  False  False   True  False  False   \n",
      "298   40170  True  False  False   True  False  False  False  False   True   \n",
      "299   40170  True  False  False   True  False  False  False  False   True   \n",
      "\n",
      "         O                 Location  \n",
      "0    False  (41.857908, -87.669147)  \n",
      "1    False  (41.857908, -87.669147)  \n",
      "2     True  (41.829353, -87.680622)  \n",
      "3     True  (41.829353, -87.680622)  \n",
      "4    False  (41.831677, -87.625826)  \n",
      "..     ...                      ...  \n",
      "295  False  (41.964273, -87.657588)  \n",
      "296  False   (41.88322, -87.626189)  \n",
      "297  False  (41.964273, -87.657588)  \n",
      "298  False  (41.885269, -87.666969)  \n",
      "299  False  (41.885269, -87.666969)  \n",
      "\n",
      "[300 rows x 17 columns]\n"
     ]
    }
   ],
   "source": [
    "# Drop location column from the dataframe and add two columns - longitude and latitude. \n",
    "print(l_stations)\n",
    "l_stations.drop(l_stations.columns[len(l_stations.columns)-1], axis = 1, inplace = True)"
   ]
  },
  {
   "cell_type": "code",
   "execution_count": 194,
   "metadata": {},
   "outputs": [
    {
     "name": "stdout",
     "output_type": "stream",
     "text": [
      "   STOP_ID DIRECTION_ID                        STOP_NAME  \\\n",
      "0    30162            W         18th (54th/Cermak-bound)   \n",
      "1    30161            E                18th (Loop-bound)   \n",
      "2    30022            N         35th/Archer (Loop-bound)   \n",
      "3    30023            S       35th/Archer (Midway-bound)   \n",
      "4    30214            S  35-Bronzeville-IIT (63rd-bound)   \n",
      "\n",
      "           STATION_NAME           STATION_DESCRIPTIVE_NAME  MAP_ID   ADA  \\\n",
      "0                  18th                   18th (Pink Line)   40830  True   \n",
      "1                  18th                   18th (Pink Line)   40830  True   \n",
      "2           35th/Archer          35th/Archer (Orange Line)   40120  True   \n",
      "3           35th/Archer          35th/Archer (Orange Line)   40120  True   \n",
      "4  35th-Bronzeville-IIT  35th-Bronzeville-IIT (Green Line)   41120  True   \n",
      "\n",
      "     RED   BLUE      G    BRN      P   Pexp      Y    Pnk      O  \n",
      "0  False  False  False  False  False  False  False   True  False  \n",
      "1  False  False  False  False  False  False  False   True  False  \n",
      "2  False  False  False  False  False  False  False  False   True  \n",
      "3  False  False  False  False  False  False  False  False   True  \n",
      "4  False  False   True  False  False  False  False  False  False  \n"
     ]
    }
   ],
   "source": [
    "# Print to double-check that we do not have Location anymore\n",
    "print(l_stations.head())"
   ]
  },
  {
   "cell_type": "code",
   "execution_count": 197,
   "metadata": {},
   "outputs": [],
   "source": [
    "# Concat l_stations and long/lat\n",
    "l_stations = pd.concat([l_stations.reset_index(drop = True), long_lat], axis = 1)"
   ]
  },
  {
   "cell_type": "code",
   "execution_count": null,
   "metadata": {},
   "outputs": [],
   "source": [
    "# Double-check the new dataframe\n",
    "print(l_stations.head())"
   ]
  },
  {
   "cell_type": "code",
   "execution_count": 199,
   "metadata": {},
   "outputs": [
    {
     "data": {
      "text/plain": [
       "False"
      ]
     },
     "execution_count": 199,
     "metadata": {},
     "output_type": "execute_result"
    }
   ],
   "source": [
    "# Check NAs\n",
    "l_stations.isnull().values.any()\n",
    "# As we can see, all data is clean"
   ]
  },
  {
   "cell_type": "code",
   "execution_count": 203,
   "metadata": {},
   "outputs": [],
   "source": [
    "# Export in csv\n",
    "l_stations.to_csv('l_stations.csv', sep = ',', index = False)"
   ]
  },
  {
   "cell_type": "markdown",
   "metadata": {},
   "source": [
    "### Solution in R for zip codes"
   ]
  },
  {
   "cell_type": "code",
   "execution_count": null,
   "metadata": {},
   "outputs": [],
   "source": [
    "# Clean data in R! "
   ]
  }
 ],
 "metadata": {
  "kernelspec": {
   "display_name": "Python 3",
   "language": "python",
   "name": "python3"
  },
  "language_info": {
   "codemirror_mode": {
    "name": "ipython",
    "version": 3
   },
   "file_extension": ".py",
   "mimetype": "text/x-python",
   "name": "python",
   "nbconvert_exporter": "python",
   "pygments_lexer": "ipython3",
   "version": "3.7.4"
  }
 },
 "nbformat": 4,
 "nbformat_minor": 2
}
